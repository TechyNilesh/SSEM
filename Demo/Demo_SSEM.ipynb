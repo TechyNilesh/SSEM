{
 "cells": [
  {
   "cell_type": "code",
   "execution_count": 1,
   "id": "659c28c3",
   "metadata": {},
   "outputs": [
    {
     "name": "stderr",
     "output_type": "stream",
     "text": [
      "C:\\Users\\TechyNilesh\\AppData\\Local\\Programs\\Python\\Python310\\lib\\site-packages\\tqdm\\auto.py:21: TqdmWarning: IProgress not found. Please update jupyter and ipywidgets. See https://ipywidgets.readthedocs.io/en/stable/user_install.html\n",
      "  from .autonotebook import tqdm as notebook_tqdm\n"
     ]
    }
   ],
   "source": [
    "# import SSEM\n",
    "from SSEM import SemanticSimilarity"
   ]
  },
  {
   "cell_type": "code",
   "execution_count": 2,
   "id": "9c0c2b2a",
   "metadata": {},
   "outputs": [
    {
     "name": "stderr",
     "output_type": "stream",
     "text": [
      "Some weights of the model checkpoint at bert-base-multilingual-cased were not used when initializing BertModel: ['cls.predictions.transform.dense.weight', 'cls.predictions.transform.LayerNorm.weight', 'cls.seq_relationship.weight', 'cls.predictions.decoder.weight', 'cls.predictions.transform.dense.bias', 'cls.predictions.transform.LayerNorm.bias', 'cls.predictions.bias', 'cls.seq_relationship.bias']\n",
      "- This IS expected if you are initializing BertModel from the checkpoint of a model trained on another task or with another architecture (e.g. initializing a BertForSequenceClassification model from a BertForPreTraining model).\n",
      "- This IS NOT expected if you are initializing BertModel from the checkpoint of a model that you expect to be exactly identical (initializing a BertForSequenceClassification model from a BertForSequenceClassification model).\n"
     ]
    }
   ],
   "source": [
    "# Create an instance of SemanticSimilarity\n",
    "similarity = SemanticSimilarity(model_name='bert-base-multilingual-cased', metric='cosine',custom_embeddings=None)"
   ]
  },
  {
   "cell_type": "code",
   "execution_count": 3,
   "id": "e3b3a7bf",
   "metadata": {},
   "outputs": [],
   "source": [
    "# Define the sentences to compare\n",
    "output_sentences = [\"This is a sentence.\", \"Another sentence here.\"]\n",
    "reference_sentences = [\"This sentence is similar.\", \"A different sentence.\"]"
   ]
  },
  {
   "cell_type": "code",
   "execution_count": 4,
   "id": "4d617eb2",
   "metadata": {},
   "outputs": [
    {
     "name": "stdout",
     "output_type": "stream",
     "text": [
      "Mean Sentence Similarity: 0.7920607\n"
     ]
    }
   ],
   "source": [
    "# Compute the similarity score\n",
    "result = similarity.evaluate(output_sentences, reference_sentences, level='sentence', output_format='mean',n_jobs=1)\n",
    "# Print the result\n",
    "print(\"Mean Sentence Similarity:\", result)"
   ]
  },
  {
   "cell_type": "code",
   "execution_count": 5,
   "id": "4ba163d8",
   "metadata": {},
   "outputs": [
    {
     "name": "stderr",
     "output_type": "stream",
     "text": [
      "2it [00:00, 12.61it/s]"
     ]
    },
    {
     "name": "stdout",
     "output_type": "stream",
     "text": [
      "Mean Token Similarity: 0.62287366\n"
     ]
    },
    {
     "name": "stderr",
     "output_type": "stream",
     "text": [
      "\n"
     ]
    }
   ],
   "source": [
    "# Compute the similarity score\n",
    "result = similarity.evaluate(output_sentences, reference_sentences, level='token', output_format='mean',n_jobs=1)\n",
    "# Print the result\n",
    "print(\"Mean Token Similarity:\", result)"
   ]
  },
  {
   "cell_type": "code",
   "execution_count": 6,
   "id": "85da40be",
   "metadata": {},
   "outputs": [
    {
     "name": "stderr",
     "output_type": "stream",
     "text": [
      "100%|██████████████████████████████████████████████████████████████████████████████████| 2/2 [00:00<00:00, 1449.31it/s]"
     ]
    },
    {
     "name": "stdout",
     "output_type": "stream",
     "text": [
      "Mean LSI Similarity: 0.54860675\n"
     ]
    },
    {
     "name": "stderr",
     "output_type": "stream",
     "text": [
      "\n"
     ]
    }
   ],
   "source": [
    "# Compute the similarity score\n",
    "result = similarity.evaluate(output_sentences, reference_sentences, level='lsi', output_format='mean',n_jobs=1)\n",
    "# Print the result\n",
    "print(\"Mean LSI Similarity:\", result)"
   ]
  },
  {
   "cell_type": "code",
   "execution_count": null,
   "id": "e1a0a610",
   "metadata": {},
   "outputs": [],
   "source": []
  }
 ],
 "metadata": {
  "kernelspec": {
   "display_name": "Python 3 (ipykernel)",
   "language": "python",
   "name": "python3"
  },
  "language_info": {
   "codemirror_mode": {
    "name": "ipython",
    "version": 3
   },
   "file_extension": ".py",
   "mimetype": "text/x-python",
   "name": "python",
   "nbconvert_exporter": "python",
   "pygments_lexer": "ipython3",
   "version": "3.10.5"
  }
 },
 "nbformat": 4,
 "nbformat_minor": 5
}
